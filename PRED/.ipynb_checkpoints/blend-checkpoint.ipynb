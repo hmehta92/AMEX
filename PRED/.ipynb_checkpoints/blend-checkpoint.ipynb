{
 "cells": [
  {
   "cell_type": "code",
   "execution_count": 1,
   "metadata": {},
   "outputs": [],
   "source": [
    "import pandas as pd"
   ]
  },
  {
   "cell_type": "code",
   "execution_count": 2,
   "metadata": {},
   "outputs": [],
   "source": [
    "data1 = pd.read_csv(\"submission_optuna_log_loss_0.213734.csv\")\n",
    "data2 = pd.read_csv(\"submission_0.797501.csv\")"
   ]
  },
  {
   "cell_type": "code",
   "execution_count": 3,
   "metadata": {},
   "outputs": [
    {
     "data": {
      "text/plain": [
       "(                                         customer_ID  prediction\n",
       " 0  00000469ba478561f23a92a868bd366de6f6527a684c9a...    0.022291\n",
       " 1  00001bf2e77ff879fab36aa4fac689b9ba411dae63ae39...    0.000641\n",
       " 2  0000210045da4f81e5f122c6bde5c2a617d03eef67f82c...    0.026747\n",
       " 3  00003b41e58ede33b8daf61ab56d9952f17c9ad1c3976c...    0.196736\n",
       " 4  00004b22eaeeeb0ec976890c1d9bfc14fd9427e98c4ee9...    0.895436,\n",
       "                                          customer_ID  prediction\n",
       " 0  00000469ba478561f23a92a868bd366de6f6527a684c9a...    0.021209\n",
       " 1  00001bf2e77ff879fab36aa4fac689b9ba411dae63ae39...    0.000697\n",
       " 2  0000210045da4f81e5f122c6bde5c2a617d03eef67f82c...    0.018480\n",
       " 3  00003b41e58ede33b8daf61ab56d9952f17c9ad1c3976c...    0.190752\n",
       " 4  00004b22eaeeeb0ec976890c1d9bfc14fd9427e98c4ee9...    0.878187)"
      ]
     },
     "execution_count": 3,
     "metadata": {},
     "output_type": "execute_result"
    }
   ],
   "source": [
    "data1.head(), data2.head()"
   ]
  },
  {
   "cell_type": "code",
   "execution_count": 4,
   "metadata": {},
   "outputs": [],
   "source": [
    "data1 = data1.merge(data2, on = 'customer_ID')"
   ]
  },
  {
   "cell_type": "code",
   "execution_count": 5,
   "metadata": {},
   "outputs": [
    {
     "data": {
      "text/html": [
       "<div>\n",
       "<style scoped>\n",
       "    .dataframe tbody tr th:only-of-type {\n",
       "        vertical-align: middle;\n",
       "    }\n",
       "\n",
       "    .dataframe tbody tr th {\n",
       "        vertical-align: top;\n",
       "    }\n",
       "\n",
       "    .dataframe thead th {\n",
       "        text-align: right;\n",
       "    }\n",
       "</style>\n",
       "<table border=\"1\" class=\"dataframe\">\n",
       "  <thead>\n",
       "    <tr style=\"text-align: right;\">\n",
       "      <th></th>\n",
       "      <th>customer_ID</th>\n",
       "      <th>prediction_x</th>\n",
       "      <th>prediction_y</th>\n",
       "      <th>prediction</th>\n",
       "    </tr>\n",
       "  </thead>\n",
       "  <tbody>\n",
       "    <tr>\n",
       "      <th>0</th>\n",
       "      <td>00000469ba478561f23a92a868bd366de6f6527a684c9a...</td>\n",
       "      <td>0.022291</td>\n",
       "      <td>0.021209</td>\n",
       "      <td>0.022183</td>\n",
       "    </tr>\n",
       "    <tr>\n",
       "      <th>1</th>\n",
       "      <td>00001bf2e77ff879fab36aa4fac689b9ba411dae63ae39...</td>\n",
       "      <td>0.000641</td>\n",
       "      <td>0.000697</td>\n",
       "      <td>0.000647</td>\n",
       "    </tr>\n",
       "    <tr>\n",
       "      <th>2</th>\n",
       "      <td>0000210045da4f81e5f122c6bde5c2a617d03eef67f82c...</td>\n",
       "      <td>0.026747</td>\n",
       "      <td>0.018480</td>\n",
       "      <td>0.025920</td>\n",
       "    </tr>\n",
       "    <tr>\n",
       "      <th>3</th>\n",
       "      <td>00003b41e58ede33b8daf61ab56d9952f17c9ad1c3976c...</td>\n",
       "      <td>0.196736</td>\n",
       "      <td>0.190752</td>\n",
       "      <td>0.196137</td>\n",
       "    </tr>\n",
       "    <tr>\n",
       "      <th>4</th>\n",
       "      <td>00004b22eaeeeb0ec976890c1d9bfc14fd9427e98c4ee9...</td>\n",
       "      <td>0.895436</td>\n",
       "      <td>0.878187</td>\n",
       "      <td>0.893711</td>\n",
       "    </tr>\n",
       "  </tbody>\n",
       "</table>\n",
       "</div>"
      ],
      "text/plain": [
       "                                         customer_ID  prediction_x  \\\n",
       "0  00000469ba478561f23a92a868bd366de6f6527a684c9a...      0.022291   \n",
       "1  00001bf2e77ff879fab36aa4fac689b9ba411dae63ae39...      0.000641   \n",
       "2  0000210045da4f81e5f122c6bde5c2a617d03eef67f82c...      0.026747   \n",
       "3  00003b41e58ede33b8daf61ab56d9952f17c9ad1c3976c...      0.196736   \n",
       "4  00004b22eaeeeb0ec976890c1d9bfc14fd9427e98c4ee9...      0.895436   \n",
       "\n",
       "   prediction_y  prediction  \n",
       "0      0.021209    0.022183  \n",
       "1      0.000697    0.000647  \n",
       "2      0.018480    0.025920  \n",
       "3      0.190752    0.196137  \n",
       "4      0.878187    0.893711  "
      ]
     },
     "execution_count": 5,
     "metadata": {},
     "output_type": "execute_result"
    }
   ],
   "source": [
    "data1['prediction'] = data1['prediction_x']*0.9 + data1['prediction_y']*0.1\n",
    "data1.head()"
   ]
  },
  {
   "cell_type": "code",
   "execution_count": 6,
   "metadata": {},
   "outputs": [],
   "source": [
    "data1[['customer_ID','prediction']].to_csv('blend_07_23_2022.csv', index = False)"
   ]
  },
  {
   "cell_type": "code",
   "execution_count": null,
   "metadata": {},
   "outputs": [],
   "source": []
  }
 ],
 "metadata": {
  "kernelspec": {
   "display_name": "Python 3",
   "language": "python",
   "name": "python3"
  },
  "language_info": {
   "codemirror_mode": {
    "name": "ipython",
    "version": 3
   },
   "file_extension": ".py",
   "mimetype": "text/x-python",
   "name": "python",
   "nbconvert_exporter": "python",
   "pygments_lexer": "ipython3",
   "version": "3.8.3"
  }
 },
 "nbformat": 4,
 "nbformat_minor": 4
}
